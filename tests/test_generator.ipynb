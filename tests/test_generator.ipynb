{
 "cells": [
  {
   "cell_type": "code",
   "execution_count": null,
   "metadata": {},
   "outputs": [],
   "source": [
    "import os.path as osp\n",
    "import generator"
   ]
  },
  {
   "cell_type": "code",
   "execution_count": null,
   "metadata": {},
   "outputs": [],
   "source": [
    "def test_export_csv_default(tmpdir):\n",
    "    fh = tmpdir.mkdir(\"sub\").join(\"expected.csv\")\n",
    "    fh.write(\"\"\"\n",
    "    1,name1,200\n",
    "    2,name2,400\n",
    "    \"\"\".lstrip().replace('    ', ''))\n",
    "    fpath = osp.join(fh.dirname, 'test.csv')\n",
    "    \n",
    "    data = [[1, 'name1', 200], [2, 'name2', 400]]\n",
    "    generator.export_csv(fpath, data)\n",
    "    \n",
    "    assert tmpdir.join(\"sub/expected.csv\").check()\n",
    "    assert tmpdir.join(\"sub/test.csv\").check()\n",
    "    assert fh.read() == tmpdir.join(\"sub/test.csv\").read()"
   ]
  }
 ],
 "metadata": {
  "kernelspec": {
   "display_name": "Python 3",
   "language": "python",
   "name": "python3"
  },
  "language_info": {
   "codemirror_mode": {
    "name": "ipython",
    "version": 3
   },
   "file_extension": ".py",
   "mimetype": "text/x-python",
   "name": "python",
   "nbconvert_exporter": "python",
   "pygments_lexer": "ipython3",
   "version": "3.7.3"
  }
 },
 "nbformat": 4,
 "nbformat_minor": 2
}
